{
 "cells": [
  {
   "cell_type": "code",
   "execution_count": 1,
   "metadata": {},
   "outputs": [],
   "source": [
    "import torch\n",
    "import torch.nn.functional as F\n",
    "from torch import nn\n",
    "from torch.nn import *\n",
    "from torch.optim import *\n",
    "from torch.optim.lr_scheduler import *\n",
    "from torch.utils.data import Dataset, DataLoader\n",
    "from torchvision import datasets, transforms\n",
    "\n",
    "import pytorch_lightning as pl\n",
    "from pytorch_lightning.callbacks import Callback\n",
    "\n",
    "import os, gc, time, argparse, json\n",
    "import math, random, cv2\n",
    "import numpy as np\n",
    "import pandas as pd\n",
    "import matplotlib.pyplot as plt\n",
    "import seaborn as sns\n",
    "from tqdm import tqdm\n",
    "from sklearn.metrics import *"
   ]
  },
  {
   "cell_type": "code",
   "execution_count": 2,
   "metadata": {
    "jupyter": {
     "source_hidden": true
    }
   },
   "outputs": [],
   "source": [
    "class CrossEntropyLoss(Module):\n",
    "    def __init__(self):\n",
    "        super().__init__()\n",
    "\n",
    "    def forward(self, input, target, reduction=\"mean\"):\n",
    "        N, C = input.size()\n",
    "\n",
    "        if target.dim() > 1:\n",
    "            one_hot = target\n",
    "        else:\n",
    "            one_hot = torch.zeros((N, C), dtype=input.dtype, device=input.device)\n",
    "            one_hot.scatter_(1, target.reshape(N, 1), 1)\n",
    "\n",
    "        loss = -(one_hot * F.log_softmax(input, 1)).sum(1)\n",
    "        if reduction == \"mean\":\n",
    "            return loss.mean(0)\n",
    "        elif reduction == \"sum\":\n",
    "            return loss.sum(0)\n",
    "        else:\n",
    "            return loss\n",
    "\n",
    "\n",
    "class ClassificationMetric(object):\n",
    "    def __init__(self, accuracy=True, recall=True, precision=True, f1=True, average=\"macro\"):\n",
    "        self.accuracy = accuracy\n",
    "        self.recall = recall\n",
    "        self.precision = precision\n",
    "        self.f1 = f1\n",
    "        self.average = average\n",
    "\n",
    "        self.preds = []\n",
    "        self.target = []\n",
    "\n",
    "    def reset(self):\n",
    "        self.preds.clear()\n",
    "        self.target.clear()\n",
    "        gc.collect()\n",
    "\n",
    "    def update(self, preds, target):\n",
    "        preds = list(preds.cpu().detach().argmax(1).numpy())\n",
    "        target = list(target.cpu().detach().argmax(1).numpy()) if target.dim() > 1 else list(target.cpu().detach().numpy())\n",
    "        self.preds += preds\n",
    "        self.target += target\n",
    "\n",
    "    def compute(self):\n",
    "        metrics = []\n",
    "        if self.accuracy:\n",
    "            metrics.append(accuracy_score(self.target, self.preds))\n",
    "        if self.recall:\n",
    "            metrics.append(recall_score(self.target, self.preds, labels=list(set(self.preds)), average=self.average))\n",
    "        if self.precision:\n",
    "            metrics.append(precision_score(self.target, self.preds, labels=list(set(self.preds)), average=self.average))\n",
    "        if self.f1:\n",
    "            metrics.append(f1_score(self.target, self.preds, labels=list(set(self.preds)), average=self.average))\n",
    "        self.reset()\n",
    "        return metrics"
   ]
  },
  {
   "cell_type": "code",
   "execution_count": 3,
   "metadata": {
    "jupyter": {
     "source_hidden": true
    }
   },
   "outputs": [],
   "source": [
    "class FlexibleTqdm(Callback):\n",
    "    def __init__(self, steps, column_width=10):\n",
    "        super(FlexibleTqdm, self).__init__()\n",
    "        self.steps = steps\n",
    "        self.column_width = column_width\n",
    "        self.info = \"\\rEpoch_%d %s%% [%s]\"\n",
    "\n",
    "    def on_train_start(self, trainer, module):\n",
    "        history = module.history\n",
    "        self.row = \"-\" * (self.column_width + 1) * (len(history) + 2) + \"-\"\n",
    "        title = \"|\"\n",
    "        title += \"epoch\".center(self.column_width) + \"|\"\n",
    "        title += \"time\".center(self.column_width) + \"|\"\n",
    "        for i in history.keys():\n",
    "            title += i.center(self.column_width) + \"|\"\n",
    "        print(self.row)\n",
    "        print(title)\n",
    "        print(self.row)\n",
    "\n",
    "    def on_train_batch_end(self, trainer, module, outputs, batch, batch_idx, dataloader_idx):\n",
    "        current_index = int((batch_idx + 1) * 100 / self.steps)\n",
    "        tqdm = [\".\"] * 100\n",
    "        for i in range(current_index - 1):\n",
    "            tqdm[i] = \"=\"\n",
    "        if current_index:\n",
    "            tqdm[current_index - 1] = \">\"\n",
    "        print(self.info % (module.current_epoch, str(current_index).rjust(3), \"\".join(tqdm)), end=\"\")\n",
    "\n",
    "    def on_epoch_start(self, trainer, module):\n",
    "        print(self.info % (module.current_epoch, \"  0\", \".\" * 100), end=\"\")\n",
    "        self.begin = time.perf_counter()\n",
    "\n",
    "    def on_epoch_end(self, trainer, module):\n",
    "        self.end = time.perf_counter()\n",
    "        history = module.history\n",
    "        detail = \"\\r|\"\n",
    "        detail += str(module.current_epoch).center(self.column_width) + \"|\"\n",
    "        detail += (\"%d\" % (self.end - self.begin)).center(self.column_width) + \"|\"\n",
    "        for j in history.values():\n",
    "            detail += (\"%.06f\" % j[-1]).center(self.column_width) + \"|\"\n",
    "        print(\"\\r\" + \" \" * 120, end=\"\")\n",
    "        print(detail)\n",
    "        print(self.row)\n",
    "        \n",
    "        \n",
    "class LearningCurve(Callback):\n",
    "    def __init__(self, figsize=(12, 4), names=(\"loss\", \"acc\", \"f1\")):\n",
    "        super(LearningCurve, self).__init__()\n",
    "        self.figsize = figsize\n",
    "        self.names = names\n",
    "\n",
    "    def on_fit_end(self, trainer, module):\n",
    "        history = module.history\n",
    "        plt.figure(figsize=self.figsize)\n",
    "        for i, j in enumerate(self.names):\n",
    "            plt.subplot(1, len(self.names), i + 1)\n",
    "            plt.title(j + \"/val_\" + j)\n",
    "            plt.plot(history[j], \"--o\", color='r', label=j)\n",
    "            plt.plot(history[\"val_\" + j], \"-*\", color='g', label=\"val_\" + j)\n",
    "            plt.legend()\n",
    "        plt.show()"
   ]
  },
  {
   "cell_type": "code",
   "execution_count": 4,
   "metadata": {},
   "outputs": [],
   "source": [
    "epochs = 10\n",
    "batch_size = 128"
   ]
  },
  {
   "cell_type": "code",
   "execution_count": 5,
   "metadata": {},
   "outputs": [],
   "source": [
    "train_transform = transforms.Compose([\n",
    "   transforms.ToTensor(),\n",
    "   transforms.Normalize((0.1307,), (0.3081,))\n",
    "])\n",
    "val_transform = transforms.Compose([\n",
    "   transforms.ToTensor(),\n",
    "   transforms.Normalize((0.1307,), (0.3081,))\n",
    "])"
   ]
  },
  {
   "cell_type": "code",
   "execution_count": 6,
   "metadata": {},
   "outputs": [],
   "source": [
    "train_dataset = datasets.MNIST(\"data\", train=True, download=True, transform=train_transform)\n",
    "train_dataloader = torch.utils.data.DataLoader(train_dataset, batch_size=batch_size, shuffle=True, num_workers=4, pin_memory=True)\n",
    "val_dataset = datasets.MNIST(\"data\", train=False, transform=val_transform)\n",
    "val_dataloader = torch.utils.data.DataLoader(val_dataset, batch_size=batch_size, shuffle=False, num_workers=4, pin_memory=True)"
   ]
  },
  {
   "cell_type": "code",
   "execution_count": 7,
   "metadata": {},
   "outputs": [],
   "source": [
    "class CustomModel(pl.LightningModule):\n",
    "    def __init__(self):\n",
    "        super().__init__()\n",
    "        self.conv1 = Conv2d(1, 10, 5)\n",
    "        self.conv2 = Conv2d(10, 20, 3)\n",
    "        self.fc1 = Linear(20*10*10, 500)\n",
    "        self.fc2 = Linear(500, 10)\n",
    "        \n",
    "        self.train_criterion = CrossEntropyLoss()\n",
    "        self.val_criterion = CrossEntropyLoss()\n",
    "\n",
    "        self.train_metric = ClassificationMetric(recall=False, precision=False)\n",
    "        self.val_metric = ClassificationMetric(recall=False, precision=False)\n",
    "\n",
    "        self.history = {\n",
    "            \"loss\": [], \"acc\": [], \"f1\": [],\n",
    "            \"val_loss\": [], \"val_acc\": [], \"val_f1\": [],\n",
    "        }\n",
    "        \n",
    "    def forward(self,x):\n",
    "        in_size = x.size(0)\n",
    "        out = self.conv1(x)\n",
    "        out = F.relu(out)\n",
    "        out = F.max_pool2d(out, 2, 2)\n",
    "        out = self.conv2(out)\n",
    "        out = F.relu(out)\n",
    "        out = out.view(in_size, -1)\n",
    "        out = self.fc1(out)\n",
    "        out = F.relu(out)\n",
    "        out = self.fc2(out)\n",
    "        out = F.log_softmax(out, dim=1)\n",
    "        return out\n",
    "    \n",
    "    def training_step(self, batch, idx):\n",
    "        x, y = batch\n",
    "        _y = self(x)\n",
    "        loss = self.train_criterion(_y, y)\n",
    "        self.train_metric.update(_y, y)\n",
    "        return loss\n",
    "\n",
    "    def training_epoch_end(self, outs):\n",
    "        loss = 0.\n",
    "        for out in outs:\n",
    "            loss += out[\"loss\"].cpu().detach().item()\n",
    "        loss /= len(outs)\n",
    "        acc, f1 = self.train_metric.compute()\n",
    "\n",
    "        self.history[\"loss\"].append(loss)\n",
    "        self.history[\"acc\"].append(acc)\n",
    "        self.history[\"f1\"].append(f1)\n",
    "\n",
    "    def validation_step(self, batch, idx):\n",
    "        x, y = batch\n",
    "        _y = self(x)\n",
    "        val_loss = self.val_criterion(_y, y)\n",
    "        self.val_metric.update(_y, y)\n",
    "        return val_loss\n",
    "\n",
    "    def validation_epoch_end(self, outs):\n",
    "        val_loss = sum(outs).item() / len(outs)\n",
    "        val_acc, val_f1 = self.val_metric.compute()\n",
    "\n",
    "        self.history[\"val_loss\"].append(val_loss)\n",
    "        self.history[\"val_acc\"].append(val_acc)\n",
    "        self.history[\"val_f1\"].append(val_f1)\n",
    "\n",
    "    def configure_optimizers(self):\n",
    "        return Adam(self.parameters())"
   ]
  },
  {
   "cell_type": "code",
   "execution_count": 8,
   "metadata": {},
   "outputs": [],
   "source": [
    "model = CustomModel()"
   ]
  },
  {
   "cell_type": "code",
   "execution_count": 9,
   "metadata": {},
   "outputs": [
    {
     "name": "stderr",
     "output_type": "stream",
     "text": [
      "GPU available: True, used: True\n",
      "TPU available: False, using: 0 TPU cores\n",
      "LOCAL_RANK: 0 - CUDA_VISIBLE_DEVICES: [0]\n"
     ]
    }
   ],
   "source": [
    "trainer_params = {\n",
    "    \"gpus\": 1,\n",
    "    \"max_epochs\": epochs,  # 1000\n",
    "    \"checkpoint_callback\": False,  # True\n",
    "    \"logger\": False,  # TensorBoardLogger\n",
    "    \"progress_bar_refresh_rate\": 0,  # 1\n",
    "    \"num_sanity_val_steps\": 0,  # 2\n",
    "    \"callbacks\": [\n",
    "        FlexibleTqdm(len(train_dataset) // batch_size, column_width=12),\n",
    "        LearningCurve(figsize=(12, 4), names=(\"loss\", \"acc\", \"f1\")),\n",
    "    ],  # None\n",
    "}\n",
    "trainer = pl.Trainer(**trainer_params)"
   ]
  },
  {
   "cell_type": "code",
   "execution_count": 10,
   "metadata": {},
   "outputs": [
    {
     "name": "stderr",
     "output_type": "stream",
     "text": [
      "\n",
      "  | Name            | Type             | Params\n",
      "-----------------------------------------------------\n",
      "0 | conv1           | Conv2d           | 260   \n",
      "1 | conv2           | Conv2d           | 1.8 K \n",
      "2 | fc1             | Linear           | 1.0 M \n",
      "3 | fc2             | Linear           | 5.0 K \n",
      "4 | train_criterion | CrossEntropyLoss | 0     \n",
      "5 | val_criterion   | CrossEntropyLoss | 0     \n"
     ]
    },
    {
     "name": "stdout",
     "output_type": "stream",
     "text": [
      "---------------------------------------------------------------------------------------------------------\n",
      "|   epoch    |    time    |    loss    |    acc     |     f1     |  val_loss  |  val_acc   |   val_f1   |\n",
      "---------------------------------------------------------------------------------------------------------\n",
      "|     0      |     7      |  0.185612  |  0.944383  |  0.943983  |  0.060953  |  0.980000  |  0.980004  |               \n",
      "---------------------------------------------------------------------------------------------------------\n",
      "|     1      |     7      |  0.052078  |  0.984217  |  0.984119  |  0.038682  |  0.986900  |  0.986838  |               \n",
      "---------------------------------------------------------------------------------------------------------\n",
      "|     2      |     7      |  0.033784  |  0.989483  |  0.989413  |  0.033859  |  0.987900  |  0.987861  |               \n",
      "---------------------------------------------------------------------------------------------------------\n",
      "|     3      |     8      |  0.023178  |  0.992483  |  0.992433  |  0.035293  |  0.988800  |  0.988779  |               \n",
      "---------------------------------------------------------------------------------------------------------\n",
      "|     4      |     7      |  0.017861  |  0.994350  |  0.994348  |  0.034236  |  0.989100  |  0.989022  |               \n",
      "---------------------------------------------------------------------------------------------------------\n",
      "|     5      |     7      |  0.012569  |  0.996100  |  0.996074  |  0.040690  |  0.987100  |  0.987041  |               \n",
      "---------------------------------------------------------------------------------------------------------\n",
      "|     6      |     7      |  0.010513  |  0.996683  |  0.996684  |  0.042072  |  0.988500  |  0.988386  |               \n",
      "---------------------------------------------------------------------------------------------------------\n",
      "|     7      |     7      |  0.010734  |  0.996367  |  0.996361  |  0.050810  |  0.987400  |  0.987184  |               \n",
      "---------------------------------------------------------------------------------------------------------\n",
      "|     8      |     7      |  0.008306  |  0.997350  |  0.997347  |  0.041368  |  0.989500  |  0.989442  |               \n",
      "---------------------------------------------------------------------------------------------------------\n",
      "|     9      |     8      |  0.005323  |  0.998183  |  0.998188  |  0.039716  |  0.990400  |  0.990296  |               \n",
      "---------------------------------------------------------------------------------------------------------\n"
     ]
    },
    {
     "data": {
      "image/png": "[encoded data removed]",
      "text/plain": [
       "<Figure size 864x288 with 3 Axes>"
      ]
     },
     "metadata": {
      "needs_background": "light"
     },
     "output_type": "display_data"
    },
    {
     "data": {
      "text/plain": [
       "1"
      ]
     },
     "execution_count": 10,
     "metadata": {},
     "output_type": "execute_result"
    }
   ],
   "source": [
    "trainer.fit(model, train_dataloader, val_dataloader)"
   ]
  }
 ],
 "metadata": {
  "kernelspec": {
   "display_name": "Python 3",
   "language": "python",
   "name": "python3"
  },
  "language_info": {
   "codemirror_mode": {
    "name": "ipython",
    "version": 3
   },
   "file_extension": ".py",
   "mimetype": "text/x-python",
   "name": "python",
   "nbconvert_exporter": "python",
   "pygments_lexer": "ipython3",
   "version": "3.7.4"
  }
 },
 "nbformat": 4,
 "nbformat_minor": 4
}
